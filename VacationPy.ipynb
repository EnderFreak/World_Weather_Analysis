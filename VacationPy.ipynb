{
 "cells": [
  {
   "cell_type": "code",
   "execution_count": 1,
   "id": "3e4e1097",
   "metadata": {},
   "outputs": [],
   "source": [
    "#import dependencies\n",
    "import pandas as pd\n",
    "import gmaps\n",
    "import requests\n",
    "\n",
    "#import api key\n",
    "from config import g_key"
   ]
  },
  {
   "cell_type": "code",
   "execution_count": 2,
   "id": "c144ab96",
   "metadata": {},
   "outputs": [
    {
     "data": {
      "text/html": [
       "<div>\n",
       "<style scoped>\n",
       "    .dataframe tbody tr th:only-of-type {\n",
       "        vertical-align: middle;\n",
       "    }\n",
       "\n",
       "    .dataframe tbody tr th {\n",
       "        vertical-align: top;\n",
       "    }\n",
       "\n",
       "    .dataframe thead th {\n",
       "        text-align: right;\n",
       "    }\n",
       "</style>\n",
       "<table border=\"1\" class=\"dataframe\">\n",
       "  <thead>\n",
       "    <tr style=\"text-align: right;\">\n",
       "      <th></th>\n",
       "      <th>City_ID</th>\n",
       "      <th>City</th>\n",
       "      <th>Country</th>\n",
       "      <th>Date</th>\n",
       "      <th>Lat</th>\n",
       "      <th>Lng</th>\n",
       "      <th>Max Temp</th>\n",
       "      <th>Humidity</th>\n",
       "      <th>Cloudiness</th>\n",
       "      <th>Wind Speed</th>\n",
       "    </tr>\n",
       "  </thead>\n",
       "  <tbody>\n",
       "    <tr>\n",
       "      <th>0</th>\n",
       "      <td>0</td>\n",
       "      <td>Codrington</td>\n",
       "      <td>AU</td>\n",
       "      <td>2022-10-02 21:24:42</td>\n",
       "      <td>-38.2667</td>\n",
       "      <td>141.9667</td>\n",
       "      <td>8.92</td>\n",
       "      <td>87</td>\n",
       "      <td>99</td>\n",
       "      <td>2.13</td>\n",
       "    </tr>\n",
       "    <tr>\n",
       "      <th>1</th>\n",
       "      <td>1</td>\n",
       "      <td>Namanyere</td>\n",
       "      <td>TZ</td>\n",
       "      <td>2022-10-02 21:24:42</td>\n",
       "      <td>-7.5167</td>\n",
       "      <td>31.0500</td>\n",
       "      <td>20.37</td>\n",
       "      <td>29</td>\n",
       "      <td>98</td>\n",
       "      <td>3.28</td>\n",
       "    </tr>\n",
       "    <tr>\n",
       "      <th>2</th>\n",
       "      <td>2</td>\n",
       "      <td>Victoria</td>\n",
       "      <td>HK</td>\n",
       "      <td>2022-10-02 21:24:43</td>\n",
       "      <td>22.2855</td>\n",
       "      <td>114.1577</td>\n",
       "      <td>28.51</td>\n",
       "      <td>88</td>\n",
       "      <td>13</td>\n",
       "      <td>2.24</td>\n",
       "    </tr>\n",
       "    <tr>\n",
       "      <th>3</th>\n",
       "      <td>3</td>\n",
       "      <td>Lukovetskiy</td>\n",
       "      <td>RU</td>\n",
       "      <td>2022-10-02 21:24:43</td>\n",
       "      <td>64.2956</td>\n",
       "      <td>41.9211</td>\n",
       "      <td>5.52</td>\n",
       "      <td>92</td>\n",
       "      <td>100</td>\n",
       "      <td>2.34</td>\n",
       "    </tr>\n",
       "    <tr>\n",
       "      <th>4</th>\n",
       "      <td>4</td>\n",
       "      <td>Torbay</td>\n",
       "      <td>CA</td>\n",
       "      <td>2022-10-02 21:24:43</td>\n",
       "      <td>47.6666</td>\n",
       "      <td>-52.7314</td>\n",
       "      <td>9.10</td>\n",
       "      <td>70</td>\n",
       "      <td>75</td>\n",
       "      <td>5.14</td>\n",
       "    </tr>\n",
       "  </tbody>\n",
       "</table>\n",
       "</div>"
      ],
      "text/plain": [
       "   City_ID         City Country                 Date      Lat       Lng  \\\n",
       "0        0   Codrington      AU  2022-10-02 21:24:42 -38.2667  141.9667   \n",
       "1        1    Namanyere      TZ  2022-10-02 21:24:42  -7.5167   31.0500   \n",
       "2        2     Victoria      HK  2022-10-02 21:24:43  22.2855  114.1577   \n",
       "3        3  Lukovetskiy      RU  2022-10-02 21:24:43  64.2956   41.9211   \n",
       "4        4       Torbay      CA  2022-10-02 21:24:43  47.6666  -52.7314   \n",
       "\n",
       "   Max Temp  Humidity  Cloudiness  Wind Speed  \n",
       "0      8.92        87          99        2.13  \n",
       "1     20.37        29          98        3.28  \n",
       "2     28.51        88          13        2.24  \n",
       "3      5.52        92         100        2.34  \n",
       "4      9.10        70          75        5.14  "
      ]
     },
     "execution_count": 2,
     "metadata": {},
     "output_type": "execute_result"
    }
   ],
   "source": [
    "#read and retrieve/load the csv created from weatherpy\n",
    "city_data_df = pd.read_csv(\"weather_data\\cities.csv\")\n",
    "city_data_df.head()"
   ]
  },
  {
   "cell_type": "code",
   "execution_count": 3,
   "id": "a555ef76",
   "metadata": {},
   "outputs": [
    {
     "data": {
      "text/plain": [
       "City_ID         int64\n",
       "City           object\n",
       "Country        object\n",
       "Date           object\n",
       "Lat           float64\n",
       "Lng           float64\n",
       "Max Temp      float64\n",
       "Humidity        int64\n",
       "Cloudiness      int64\n",
       "Wind Speed    float64\n",
       "dtype: object"
      ]
     },
     "execution_count": 3,
     "metadata": {},
     "output_type": "execute_result"
    }
   ],
   "source": [
    "#check data types to confirm that all are int or floating decimals for gmaps to use\n",
    "city_data_df.dtypes"
   ]
  },
  {
   "cell_type": "code",
   "execution_count": 4,
   "id": "96872aa3",
   "metadata": {},
   "outputs": [],
   "source": [
    "#configure gmaps to use Google api key\n",
    "gmaps.configure(api_key = g_key)"
   ]
  },
  {
   "cell_type": "code",
   "execution_count": 5,
   "id": "7edc4687",
   "metadata": {},
   "outputs": [],
   "source": [
    "#get the max temp and if temp is < 0, 0 will be added to list\n",
    "max_temp = city_data_df[\"Max Temp\"]\n",
    "temps = []\n",
    "for temp in max_temp:\n",
    "    temps.append(max(temp, 0))"
   ]
  },
  {
   "cell_type": "code",
   "execution_count": 6,
   "id": "fc7b25ca",
   "metadata": {},
   "outputs": [
    {
     "data": {
      "application/vnd.jupyter.widget-view+json": {
       "model_id": "2e090cec35c2431f8e754dc1b8359d28",
       "version_major": 2,
       "version_minor": 0
      },
      "text/plain": [
       "Figure(layout=FigureLayout(height='420px'))"
      ]
     },
     "metadata": {},
     "output_type": "display_data"
    }
   ],
   "source": [
    "#create heatmap for max temps\n",
    "\n",
    "#get lat and long\n",
    "locations = city_data_df[[\"Lat\", \"Lng\"]]\n",
    "\n",
    "#get max temp\n",
    "max_temp = city_data_df[\"Max Temp\"]\n",
    "\n",
    "#3. assign the figure var to the gmaps.figure() attribute\n",
    "fig = gmaps.figure()\n",
    "\n",
    "#4. assign heatmap_layer var to the heatmap_layer attribute and add in the locations\n",
    "heat_layer = gmaps.heatmap_layer(locations, weights=temps)\n",
    "\n",
    "#5. add heatmap layer\n",
    "fig.add_layer(heat_layer)\n",
    "\n",
    "#6. call the fig to plot the data\n",
    "fig"
   ]
  },
  {
   "cell_type": "code",
   "execution_count": null,
   "id": "a06527f2",
   "metadata": {},
   "outputs": [],
   "source": []
  }
 ],
 "metadata": {
  "kernelspec": {
   "display_name": "PythonData",
   "language": "python",
   "name": "pythondata"
  },
  "language_info": {
   "codemirror_mode": {
    "name": "ipython",
    "version": 3
   },
   "file_extension": ".py",
   "mimetype": "text/x-python",
   "name": "python",
   "nbconvert_exporter": "python",
   "pygments_lexer": "ipython3",
   "version": "3.7.13"
  }
 },
 "nbformat": 4,
 "nbformat_minor": 5
}
