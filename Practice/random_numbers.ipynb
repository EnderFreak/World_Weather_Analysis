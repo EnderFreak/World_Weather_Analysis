{
 "cells": [
  {
   "cell_type": "code",
   "execution_count": 1,
   "id": "539cc27d",
   "metadata": {},
   "outputs": [],
   "source": [
    "#import the random module\n",
    "import random"
   ]
  },
  {
   "cell_type": "code",
   "execution_count": 3,
   "id": "a35c0023",
   "metadata": {},
   "outputs": [
    {
     "data": {
      "text/plain": [
       "37.23663373014383"
      ]
     },
     "execution_count": 3,
     "metadata": {},
     "output_type": "execute_result"
    }
   ],
   "source": [
    "random_number = random.randint(-90,89) + random.random()\n",
    "random_number"
   ]
  },
  {
   "cell_type": "code",
   "execution_count": 5,
   "id": "077c4c4e",
   "metadata": {},
   "outputs": [
    {
     "data": {
      "text/plain": [
       "[-53.8742714501522,\n",
       " -20.76303194367894,\n",
       " -4.404812656108923,\n",
       " -58.50442547071047,\n",
       " -32.44503505379834,\n",
       " 61.61113789630408,\n",
       " -15.128322396187535,\n",
       " -68.72203047561514,\n",
       " 64.68565675973697,\n",
       " -24.82089148625485]"
      ]
     },
     "execution_count": 5,
     "metadata": {},
     "output_type": "execute_result"
    }
   ],
   "source": [
    "x = 1\n",
    "latitudes = []\n",
    "while x < 11:\n",
    "    random_lat = random.randint(-90, 89) + random.random()\n",
    "    latitudes.append(random_lat)\n",
    "    x += 1\n",
    "latitudes"
   ]
  },
  {
   "cell_type": "code",
   "execution_count": 6,
   "id": "6ade8884",
   "metadata": {},
   "outputs": [],
   "source": [
    "#import the NumPy module.\n",
    "import numpy as np"
   ]
  },
  {
   "cell_type": "code",
   "execution_count": 8,
   "id": "547e204f",
   "metadata": {},
   "outputs": [
    {
     "data": {
      "text/plain": [
       "array([-67.48739109,  59.1906265 ,   8.34542435,  41.42216977,\n",
       "        69.05064711, -50.61730589, -56.95770819,  48.24558653,\n",
       "        32.4367913 , -88.72509696, -69.92395343, -22.70225967,\n",
       "       -59.73691293,  19.01276941,  81.23826888,  34.69790014,\n",
       "        19.02364117,  -2.35146418,  46.49051539, -69.42822063,\n",
       "       -24.68922963, -70.53121107,  30.99975824,  40.70086059,\n",
       "        67.46236973, -13.58065375,  28.37156418,   3.43717204,\n",
       "        88.99816274, -31.67485395, -49.36619612,  87.97546308,\n",
       "        77.69945503,  61.40553649,  73.02811879, -81.75693945,\n",
       "        38.0212924 ,   1.73263822,  11.75196438,  37.49254957,\n",
       "        27.88817297, -20.82719948,  55.49171665,  67.24197182,\n",
       "        -1.15246547,  63.56415455,  73.65153628, -12.47090749,\n",
       "        -9.74183185,  25.64874718])"
      ]
     },
     "execution_count": 8,
     "metadata": {},
     "output_type": "execute_result"
    }
   ],
   "source": [
    "np.random.uniform(-90.000,90.000, size = 50)\n",
    "#another option is to write it as : np.random.uniform(low=-90, high=90)"
   ]
  },
  {
   "cell_type": "code",
   "execution_count": 9,
   "id": "c8d6439c",
   "metadata": {},
   "outputs": [],
   "source": [
    "#time to see what is better for 1500 size params\n",
    "#import the timeit\n",
    "import timeit"
   ]
  },
  {
   "cell_type": "code",
   "execution_count": 10,
   "id": "cd666cb7",
   "metadata": {},
   "outputs": [
    {
     "name": "stdout",
     "output_type": "stream",
     "text": [
      "15.9 µs ± 304 ns per loop (mean ± std. dev. of 7 runs, 100000 loops each)\n"
     ]
    }
   ],
   "source": [
    "%timeit np.random.uniform(-90.000, 90.000, size = 1500)"
   ]
  },
  {
   "cell_type": "code",
   "execution_count": 11,
   "id": "3cbd1395",
   "metadata": {},
   "outputs": [
    {
     "name": "stdout",
     "output_type": "stream",
     "text": [
      "2.45 ms ± 90 µs per loop (mean ± std. dev. of 7 runs, 100 loops each)\n"
     ]
    }
   ],
   "source": [
    "def latitudes(size):\n",
    "    latitudes = []\n",
    "    x = 0\n",
    "    while x < (size):\n",
    "        random_lat = random.randint(-90, 90) + random.random()\n",
    "        latitudes.append(random_lat)\n",
    "        x += 1\n",
    "    return latitudes\n",
    "# Call the function with 1500.\n",
    "%timeit latitudes(1500)\n",
    "\n",
    "#the timeit np.random.uniform function runs ~x100 faster than this 8-liner code loop"
   ]
  },
  {
   "cell_type": "code",
   "execution_count": null,
   "id": "1ac572cf",
   "metadata": {},
   "outputs": [],
   "source": []
  }
 ],
 "metadata": {
  "kernelspec": {
   "display_name": "PythonData",
   "language": "python",
   "name": "pythondata"
  },
  "language_info": {
   "codemirror_mode": {
    "name": "ipython",
    "version": 3
   },
   "file_extension": ".py",
   "mimetype": "text/x-python",
   "name": "python",
   "nbconvert_exporter": "python",
   "pygments_lexer": "ipython3",
   "version": "3.7.13"
  }
 },
 "nbformat": 4,
 "nbformat_minor": 5
}
