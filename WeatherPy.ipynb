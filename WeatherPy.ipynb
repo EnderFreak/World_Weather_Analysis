{
 "cells": [
  {
   "cell_type": "code",
   "execution_count": 1,
   "id": "ad1fb228",
   "metadata": {},
   "outputs": [],
   "source": [
    "#import dependencies\n",
    "import pandas as pd\n",
    "import matplotlib.pyplot as plt\n",
    "import numpy as np\n",
    "from citipy import citipy\n",
    "\n",
    "#import time library and the datetime module\n",
    "import time\n",
    "from datetime import datetime\n",
    "\n",
    "#import requests and api key\n",
    "import requests\n",
    "from config import weather_api_key"
   ]
  },
  {
   "cell_type": "code",
   "execution_count": 2,
   "id": "b2f71610",
   "metadata": {},
   "outputs": [
    {
     "data": {
      "text/plain": [
       "<zip at 0x1f316a2f8c8>"
      ]
     },
     "execution_count": 2,
     "metadata": {},
     "output_type": "execute_result"
    }
   ],
   "source": [
    "#create a set  of random lat and long combos\n",
    "#-------------------------CHANGE SIZE TO 1500 BEFORE SUBMISSION----------------------------\n",
    "lats = np.random.uniform(low=-90.000,high=90.000,size=150)\n",
    "lngs = np.random.uniform(low=-180.000,high=180.000,size=150)\n",
    "lat_lngs = zip(lats,lngs)\n",
    "lat_lngs"
   ]
  },
  {
   "cell_type": "code",
   "execution_count": 3,
   "id": "e7a6e09a",
   "metadata": {},
   "outputs": [],
   "source": [
    "coordinates = list(lat_lngs)"
   ]
  },
  {
   "cell_type": "code",
   "execution_count": 4,
   "id": "a49c063d",
   "metadata": {},
   "outputs": [
    {
     "name": "stdout",
     "output_type": "stream",
     "text": [
      "35.10584830819947 72.73466105153673\n",
      "-53.5088799334028 -116.7773182581007\n",
      "-25.287231316615035 130.18394059402624\n",
      "18.934323321250815 -20.02057781972249\n",
      "-70.71748608449906 -11.282176603054381\n",
      "-45.54677128298346 -126.76860207673093\n",
      "38.66958019598417 -15.444654403298557\n",
      "28.50952124821299 170.3097515923397\n",
      "12.008792798802062 -143.9615314141181\n",
      "-79.24234863299239 -126.93226762524014\n",
      "-31.74484909906419 164.39953822418198\n",
      "33.6350142352278 -82.39198718095177\n",
      "78.91429055425772 -102.09565485610504\n",
      "61.8271605245875 -41.7501539182166\n",
      "0.5887815497987958 99.05085163733673\n",
      "0.6909200965033477 111.821062197314\n",
      "13.875028759355772 -35.315078544291964\n",
      "23.64116389687281 -76.66952010373636\n",
      "-60.15675388403023 124.52438168853547\n",
      "-69.79919282277407 -133.25469174167037\n",
      "27.80229106704614 -179.50122958033901\n",
      "-15.797632224147804 -131.63850750802132\n",
      "54.95158418532077 14.570860014814684\n",
      "25.593309678025378 5.028700465681538\n",
      "-86.00067341404026 -13.111974519266852\n",
      "-8.614264463974493 -156.66682031052488\n",
      "71.27932028986262 -134.03326785355057\n",
      "47.475739074369244 137.4914549399677\n",
      "70.49577829786548 151.89600896363004\n",
      "2.2516768223794372 -66.3964017748589\n",
      "28.988451256196726 80.0384089086707\n",
      "61.61884845418703 -54.16881246814107\n",
      "-40.42374342739975 -130.58713133107153\n",
      "-80.66152048528059 -126.03527613321124\n",
      "-63.51660455403961 -146.8130323997255\n",
      "63.16814672916246 -16.834912964548693\n",
      "-40.966065708624875 -67.53075827145318\n",
      "-33.52403597814448 -160.9678480847303\n",
      "68.26021120579236 30.045665415133783\n",
      "48.20200347818053 41.768256627754624\n",
      "-67.54489047912429 -145.18405057066718\n",
      "-35.452100470113365 168.86403921474056\n",
      "-39.732392249724924 151.49456042756935\n",
      "78.89310480718393 3.499832440292238\n",
      "9.967136894535713 126.31357788946622\n",
      "83.37895268559424 165.35173853147126\n",
      "-5.928707234564584 -18.523564201454434\n",
      "-55.961861336158584 36.75843748236187\n",
      "-81.18010583522138 14.83829585367505\n",
      "23.060339796947673 -155.665624352471\n",
      "-68.47709470092703 71.17073950028674\n",
      "0.1973864801203149 -132.02996753592214\n",
      "37.9557120854174 -173.345465341167\n",
      "-75.94027324278814 -146.348791218682\n",
      "-68.64739581164667 -144.0685461320959\n",
      "-65.04936115134208 104.37105434083765\n",
      "31.89956843412051 98.39227344411938\n",
      "-74.96572580091504 160.2004369590304\n",
      "9.326772020172697 112.91905928630325\n",
      "83.1315853354595 146.02439181693256\n",
      "-13.846474761666755 -141.78665939238826\n",
      "2.8491445874126953 100.5125113038007\n",
      "38.13945434574998 -162.78650755560636\n",
      "30.907759741024066 35.49763892029054\n",
      "25.262032964100285 154.5354311043434\n",
      "69.42746418850018 79.90759557903658\n",
      "19.915211508484205 169.36266564977564\n",
      "-35.82189724966666 175.48063513036237\n",
      "-59.97413097465599 51.28246522700283\n",
      "-0.508614790288135 -143.49668350261106\n",
      "89.52693291316692 46.748640403719634\n",
      "-61.52673998457833 -49.70482458874929\n",
      "71.00040149358415 -36.05597435009099\n",
      "-4.656751692718316 125.33195797369655\n",
      "14.659243029003136 51.3659679554913\n",
      "-67.25204529485892 70.59118596695669\n",
      "-5.586604770762818 -172.81225051729186\n",
      "-73.21831746462524 149.77540374472375\n",
      "88.74063748345353 93.72302741704158\n",
      "-28.509195618654296 -179.70936770166256\n",
      "-53.88200863654214 -120.53631299157107\n",
      "-57.997106750136005 -59.187308860342995\n",
      "36.14052477058296 -91.16993483500994\n",
      "-2.248069303762847 -149.13397328473036\n",
      "-34.00770418644096 -106.6286951278537\n",
      "-21.90508693329477 31.345288981884124\n",
      "1.1194530316361835 -107.67659029849557\n",
      "70.6488174328002 -149.42623639021187\n",
      "-44.86381184640862 -60.448801867995485\n",
      "48.29595997449266 175.15284765723595\n",
      "-69.69943283873219 -0.4001428371278166\n",
      "-61.64442706592912 -24.92718116204543\n",
      "-10.970703746520726 20.814006516284536\n",
      "20.78916620066333 -112.51555926148015\n",
      "0.29205563350343766 -26.412790075088196\n",
      "76.64463569169342 46.57291969934144\n",
      "-44.567578252089454 163.81185373216243\n",
      "0.8341427549869991 165.1585266503826\n",
      "47.19224603050563 -45.4120562992363\n",
      "-17.520059939488277 95.3374415631389\n",
      "-67.62872266306623 117.75261203180992\n",
      "16.086586964695314 -119.56817366579273\n",
      "67.83412351147228 -123.37000050026474\n",
      "-14.98467399333235 -154.26153861170928\n",
      "-30.79943140654168 -156.48864265660802\n",
      "-21.78102166101185 103.79278429782067\n",
      "13.725670652569363 -135.66180911830781\n",
      "72.2753722033737 125.67545150455078\n",
      "-65.33417819093972 153.01224878513915\n",
      "8.993631129400399 84.87958290575904\n",
      "44.169001555528666 -34.59696426882948\n",
      "-66.61816505213275 -142.84602242022592\n",
      "-7.250446772317474 145.82913875761363\n",
      "-82.38136137824105 -0.04458285455461919\n",
      "31.6629174387232 23.40665332931914\n",
      "-1.3021471494666912 -36.41916848085734\n",
      "30.604781537886723 26.963350780051798\n",
      "59.91056160013815 108.91279818866099\n",
      "49.38073321600157 134.3063924284346\n",
      "-66.60022624950797 12.6007651013484\n",
      "-1.2115283884794081 62.63033362399193\n",
      "68.26884442033534 170.1223076153313\n",
      "-87.6595934436768 -53.91728005750353\n",
      "17.790722256268097 109.28468385910492\n",
      "-77.37278869187085 35.99437722234458\n",
      "25.05397492486216 -76.95517697146215\n",
      "5.768328141637298 150.69390350846618\n",
      "40.36524621532061 -37.40187048396146\n",
      "17.931639744360965 95.73133479406164\n",
      "21.293269059467548 137.4051204145665\n",
      "-49.26824915734604 -11.719693747171874\n",
      "-24.28121434898719 21.44270547114789\n",
      "-67.26177683813341 117.9513643781275\n",
      "20.319468785246528 53.47680278532846\n",
      "85.28748058826989 -26.161303929990027\n",
      "-61.383299257851654 -36.40882313675277\n",
      "41.3272737145669 166.43978483637488\n",
      "1.234652685492577 -84.34300291874972\n",
      "44.051060367265876 172.8547798363918\n",
      "-71.99627903261927 -81.98098324178845\n",
      "-47.451445721055514 83.32460729958723\n",
      "14.144358548166991 -50.55702641511701\n",
      "-88.3056183917472 -40.298228377328826\n",
      "-83.29773244209733 -148.03270512419903\n",
      "73.78820874757506 -71.32493196569892\n",
      "-50.58532298389273 124.10800495459733\n",
      "55.58304297286685 90.75582222766985\n",
      "-7.447992885145709 -72.29591825973877\n",
      "-44.26395535528177 56.808228887599\n",
      "23.08447585662745 -97.60738848112734\n"
     ]
    }
   ],
   "source": [
    "#get lat and long combo in sets\n",
    "for coordinate in coordinates:\n",
    "    print(coordinate[0],coordinate[1])"
   ]
  },
  {
   "cell_type": "code",
   "execution_count": 5,
   "id": "615497ef",
   "metadata": {},
   "outputs": [
    {
     "data": {
      "text/plain": [
       "109"
      ]
     },
     "execution_count": 5,
     "metadata": {},
     "output_type": "execute_result"
    }
   ],
   "source": [
    "#create list for holding the cities\n",
    "cities = []\n",
    "\n",
    "#identify nearest city for each lat and long combo\n",
    "\n",
    "for coordinate in coordinates:\n",
    "    city = citipy.nearest_city(coordinate[0],coordinate[1]).city_name\n",
    "    \n",
    "    #if city is unique, add to list\n",
    "    if city not in cities:\n",
    "        cities.append(city)\n",
    "        \n",
    "#print city count and confirm sufficiency\n",
    "len(cities)"
   ]
  },
  {
   "cell_type": "code",
   "execution_count": 6,
   "id": "98fee8ef",
   "metadata": {},
   "outputs": [
    {
     "name": "stdout",
     "output_type": "stream",
     "text": [
      "Beginning Data Retrieval     \n",
      "-----------------------------\n",
      "Processing Record 1 of Set 1 | mingaora\n",
      "Processing Record 2 of Set 1 | rikitea\n",
      "Processing Record 3 of Set 1 | yulara\n",
      "Processing Record 4 of Set 1 | nouadhibou\n",
      "Processing Record 5 of Set 1 | cape town\n",
      "Processing Record 6 of Set 1 | camacha\n",
      "Processing Record 7 of Set 1 | butaritari\n",
      "Processing Record 8 of Set 1 | hilo\n",
      "Processing Record 9 of Set 1 | ahipara\n",
      "Processing Record 10 of Set 1 | evans\n",
      "Processing Record 11 of Set 1 | yellowknife\n",
      "Processing Record 12 of Set 1 | nanortalik\n",
      "Processing Record 13 of Set 1 | sibolga\n",
      "Processing Record 14 of Set 1 | sri aman\n",
      "Processing Record 15 of Set 1 | porto novo\n",
      "Processing Record 16 of Set 1 | rock sound\n",
      "Processing Record 17 of Set 1 | albany\n",
      "Processing Record 18 of Set 1 | kapaa\n",
      "Processing Record 19 of Set 1 | ronne\n",
      "Processing Record 20 of Set 1 | gat\n",
      "Processing Record 21 of Set 1 | faanui\n",
      "Processing Record 22 of Set 1 | tuktoyaktuk\n",
      "Processing Record 23 of Set 1 | svetlaya\n",
      "Processing Record 24 of Set 1 | srednekolymsk\n",
      "Processing Record 25 of Set 1 | inirida\n",
      "Processing Record 26 of Set 1 | khatima\n",
      "Processing Record 27 of Set 1 | nuuk\n",
      "Processing Record 28 of Set 1 | mataura\n",
      "Processing Record 29 of Set 1 | hofn\n",
      "Processing Record 30 of Set 1 | general roca\n",
      "Processing Record 31 of Set 1 | avarua\n",
      "Processing Record 32 of Set 1 | kovdor\n",
      "Processing Record 33 of Set 1 | morozovsk\n",
      "Processing Record 34 of Set 1 | lakes entrance\n",
      "Processing Record 35 of Set 1 | barentsburg\n",
      "City not found. Skipping...\n",
      "Processing Record 36 of Set 1 | pilar\n",
      "Processing Record 37 of Set 1 | pevek\n",
      "Processing Record 38 of Set 1 | georgetown\n",
      "Processing Record 39 of Set 1 | port alfred\n",
      "Processing Record 40 of Set 1 | bredasdorp\n",
      "Processing Record 41 of Set 1 | kahului\n",
      "Processing Record 42 of Set 1 | saint-philippe\n",
      "Processing Record 43 of Set 1 | atuona\n",
      "Processing Record 44 of Set 1 | tezu\n",
      "Processing Record 45 of Set 1 | bluff\n",
      "Processing Record 46 of Set 1 | balabac\n",
      "Processing Record 47 of Set 1 | chokurdakh\n",
      "Processing Record 48 of Set 1 | teluk nibung\n",
      "Processing Record 49 of Set 1 | busayra\n",
      "Processing Record 50 of Set 1 | hasaki\n",
      "Processing Record 1 of Set 2 | tazovskiy\n",
      "Processing Record 2 of Set 2 | coromandel\n",
      "Processing Record 3 of Set 2 | tsihombe\n",
      "City not found. Skipping...\n",
      "Processing Record 4 of Set 2 | belushya guba\n",
      "City not found. Skipping...\n",
      "Processing Record 5 of Set 2 | ushuaia\n",
      "Processing Record 6 of Set 2 | tasiilaq\n",
      "Processing Record 7 of Set 2 | katobu\n",
      "Processing Record 8 of Set 2 | bereda\n",
      "Processing Record 9 of Set 2 | saleaula\n",
      "City not found. Skipping...\n",
      "Processing Record 10 of Set 2 | hobart\n",
      "Processing Record 11 of Set 2 | khatanga\n",
      "Processing Record 12 of Set 2 | vaini\n",
      "Processing Record 13 of Set 2 | jonesboro\n",
      "Processing Record 14 of Set 2 | chiredzi\n",
      "Processing Record 15 of Set 2 | puerto ayora\n",
      "Processing Record 16 of Set 2 | college\n",
      "Processing Record 17 of Set 2 | viedma\n",
      "Processing Record 18 of Set 2 | nikolskoye\n",
      "Processing Record 19 of Set 2 | hermanus\n",
      "Processing Record 20 of Set 2 | chuy\n",
      "Processing Record 21 of Set 2 | cazaje\n",
      "City not found. Skipping...\n",
      "Processing Record 22 of Set 2 | cabo san lucas\n",
      "Processing Record 23 of Set 2 | touros\n",
      "Processing Record 24 of Set 2 | te anau\n",
      "Processing Record 25 of Set 2 | bairiki\n",
      "Processing Record 26 of Set 2 | torbay\n",
      "Processing Record 27 of Set 2 | labuhan\n",
      "Processing Record 28 of Set 2 | norman wells\n",
      "Processing Record 29 of Set 2 | avera\n",
      "Processing Record 30 of Set 2 | carnarvon\n",
      "Processing Record 31 of Set 2 | tiksi\n",
      "Processing Record 32 of Set 2 | batticaloa\n",
      "Processing Record 33 of Set 2 | ribeira grande\n",
      "Processing Record 34 of Set 2 | kerema\n",
      "Processing Record 35 of Set 2 | tubruq\n",
      "City not found. Skipping...\n",
      "Processing Record 36 of Set 2 | aquiraz\n",
      "Processing Record 37 of Set 2 | marsa matruh\n",
      "Processing Record 38 of Set 2 | yerbogachen\n",
      "Processing Record 39 of Set 2 | litovko\n",
      "Processing Record 40 of Set 2 | victoria\n",
      "Processing Record 41 of Set 2 | wanning\n",
      "Processing Record 42 of Set 2 | port elizabeth\n",
      "Processing Record 43 of Set 2 | nassau\n",
      "Processing Record 44 of Set 2 | kavieng\n",
      "Processing Record 45 of Set 2 | letpadan\n",
      "Processing Record 46 of Set 2 | naze\n",
      "Processing Record 47 of Set 2 | hukuntsi\n",
      "Processing Record 48 of Set 2 | salalah\n",
      "Processing Record 49 of Set 2 | illoqqortoormiut\n",
      "City not found. Skipping...\n",
      "Processing Record 50 of Set 2 | mar del plata\n",
      "Processing Record 1 of Set 3 | manta\n",
      "Processing Record 2 of Set 3 | punta arenas\n",
      "Processing Record 3 of Set 3 | busselton\n",
      "Processing Record 4 of Set 3 | bathsheba\n",
      "Processing Record 5 of Set 3 | qaanaaq\n",
      "Processing Record 6 of Set 3 | nazarovo\n",
      "Processing Record 7 of Set 3 | cruzeiro do sul\n",
      "Processing Record 8 of Set 3 | taolanaro\n",
      "City not found. Skipping...\n",
      "Processing Record 9 of Set 3 | nuevo progreso\n",
      "-----------------------------\n",
      "Data Retrieval Complete      \n",
      "-----------------------------\n"
     ]
    }
   ],
   "source": [
    "#build the url\n",
    "url = \"http://api.openweathermap.org/data/2.5/weather?units=metric&appid=\" + weather_api_key\n",
    "\n",
    "#create list for holding the cities\n",
    "city_data = []\n",
    "\n",
    "#print beginning of logging\n",
    "print(\"Beginning Data Retrieval     \")\n",
    "print(\"-----------------------------\")\n",
    "\n",
    "#create counters\n",
    "record_count = 1\n",
    "set_count = 1\n",
    "\n",
    "#NOTA BENE: we need to iterate through our list of cities and begin building the URL for each city, while grouping our records in sets of 50.\n",
    "#o do this, use for i in range(len(cities)) and the index to tell us when we get to 50. Once we get to 50, we tell the program to pause for 60 seconds using the time.sleep(60) command. The OpenWeatherMap API only allows 60 calls for per minute on their free tier, so pausing our program for one minute after each set of 50 will prevent time-out errors. We can also retrieve the city from the cities list and add it to the city_url by using indexing,\n",
    "#as shown in the following code:\n",
    "\n",
    "#loop through all cities in our list\n",
    "for i,city in enumerate (cities):\n",
    "    #group cities in sets of 50 for logging purposes\n",
    "    if (i % 50 == 0 and i >= 50):\n",
    "        set_count +=1\n",
    "        record_count = 1\n",
    "        time.sleep(60)\n",
    "        \n",
    "    #create endpoint url for each city\n",
    "    city_url = url + \"&q=\" + city.replace(\" \", \"+\")\n",
    "    \n",
    "    #log the url, record and set numbers and the city\n",
    "    print(f\"Processing Record {record_count} of Set {set_count} | {city}\")\n",
    "    \n",
    "    #add 1 to record count\n",
    "    record_count +=1\n",
    "\n",
    "    #run api request for each city\n",
    "    try:\n",
    "        #parse json and retrieve data\n",
    "        city_weather = requests.get(city_url).json()\n",
    "\n",
    "        #parse out the needed data\n",
    "        city_lat = city_weather[\"coord\"][\"lat\"]\n",
    "        city_lng = city_weather[\"coord\"][\"lon\"]\n",
    "        city_max_temp = city_weather[\"main\"][\"temp_max\"]\n",
    "        city_humidity = city_weather[\"main\"][\"humidity\"]\n",
    "        city_clouds = city_weather[\"clouds\"][\"all\"]\n",
    "        city_wind = city_weather[\"wind\"][\"speed\"]\n",
    "        city_country = city_weather[\"sys\"][\"country\"]\n",
    "\n",
    "        #convert data in ISO standard\n",
    "        city_date = datetime.utcfromtimestamp(city_weather[\"dt\"]).strftime('%Y-%m-%d %H:%M:%S')\n",
    "\n",
    "        #append city data to city_data list\n",
    "        city_data.append({\"City\": city.title(),\n",
    "                          \"Lat\": city_lat,\n",
    "                          \"Lng\": city_lng,\n",
    "                          \"Max Temp\": city_max_temp,\n",
    "                          \"Humidity\": city_humidity,\n",
    "                          \"Cloudiness\": city_clouds,\n",
    "                          \"Wind Speed\": city_wind,\n",
    "                          \"Country\": city_country,\n",
    "                          \"Date\": city_date})\n",
    "\n",
    "    #if error occur, skip city\n",
    "    except:\n",
    "        print(\"City not found. Skipping...\")\n",
    "        pass\n",
    "\n",
    "#indicate data loading is complete\n",
    "print(\"-----------------------------\")\n",
    "print(\"Data Retrieval Complete      \")\n",
    "print(\"-----------------------------\")"
   ]
  },
  {
   "cell_type": "code",
   "execution_count": 7,
   "id": "4bbf8430",
   "metadata": {},
   "outputs": [
    {
     "data": {
      "text/plain": [
       "101"
      ]
     },
     "execution_count": 7,
     "metadata": {},
     "output_type": "execute_result"
    }
   ],
   "source": [
    "len(city_data)"
   ]
  },
  {
   "cell_type": "code",
   "execution_count": 8,
   "id": "b62fcc97",
   "metadata": {},
   "outputs": [
    {
     "data": {
      "text/html": [
       "<div>\n",
       "<style scoped>\n",
       "    .dataframe tbody tr th:only-of-type {\n",
       "        vertical-align: middle;\n",
       "    }\n",
       "\n",
       "    .dataframe tbody tr th {\n",
       "        vertical-align: top;\n",
       "    }\n",
       "\n",
       "    .dataframe thead th {\n",
       "        text-align: right;\n",
       "    }\n",
       "</style>\n",
       "<table border=\"1\" class=\"dataframe\">\n",
       "  <thead>\n",
       "    <tr style=\"text-align: right;\">\n",
       "      <th></th>\n",
       "      <th>City</th>\n",
       "      <th>Lat</th>\n",
       "      <th>Lng</th>\n",
       "      <th>Max Temp</th>\n",
       "      <th>Humidity</th>\n",
       "      <th>Cloudiness</th>\n",
       "      <th>Wind Speed</th>\n",
       "      <th>Country</th>\n",
       "      <th>Date</th>\n",
       "    </tr>\n",
       "  </thead>\n",
       "  <tbody>\n",
       "    <tr>\n",
       "      <th>0</th>\n",
       "      <td>Mingaora</td>\n",
       "      <td>34.7758</td>\n",
       "      <td>72.3625</td>\n",
       "      <td>16.95</td>\n",
       "      <td>67</td>\n",
       "      <td>79</td>\n",
       "      <td>3.50</td>\n",
       "      <td>PK</td>\n",
       "      <td>2022-10-03 22:10:10</td>\n",
       "    </tr>\n",
       "    <tr>\n",
       "      <th>1</th>\n",
       "      <td>Rikitea</td>\n",
       "      <td>-23.1203</td>\n",
       "      <td>-134.9692</td>\n",
       "      <td>21.65</td>\n",
       "      <td>71</td>\n",
       "      <td>90</td>\n",
       "      <td>7.86</td>\n",
       "      <td>PF</td>\n",
       "      <td>2022-10-03 22:09:46</td>\n",
       "    </tr>\n",
       "    <tr>\n",
       "      <th>2</th>\n",
       "      <td>Yulara</td>\n",
       "      <td>-25.2406</td>\n",
       "      <td>130.9889</td>\n",
       "      <td>16.15</td>\n",
       "      <td>71</td>\n",
       "      <td>59</td>\n",
       "      <td>4.21</td>\n",
       "      <td>AU</td>\n",
       "      <td>2022-10-03 22:10:10</td>\n",
       "    </tr>\n",
       "    <tr>\n",
       "      <th>3</th>\n",
       "      <td>Nouadhibou</td>\n",
       "      <td>20.9310</td>\n",
       "      <td>-17.0347</td>\n",
       "      <td>25.01</td>\n",
       "      <td>70</td>\n",
       "      <td>67</td>\n",
       "      <td>6.54</td>\n",
       "      <td>MR</td>\n",
       "      <td>2022-10-03 22:06:31</td>\n",
       "    </tr>\n",
       "    <tr>\n",
       "      <th>4</th>\n",
       "      <td>Cape Town</td>\n",
       "      <td>-33.9258</td>\n",
       "      <td>18.4232</td>\n",
       "      <td>14.49</td>\n",
       "      <td>73</td>\n",
       "      <td>0</td>\n",
       "      <td>0.45</td>\n",
       "      <td>ZA</td>\n",
       "      <td>2022-10-03 22:06:25</td>\n",
       "    </tr>\n",
       "    <tr>\n",
       "      <th>5</th>\n",
       "      <td>Camacha</td>\n",
       "      <td>33.0833</td>\n",
       "      <td>-16.3333</td>\n",
       "      <td>18.68</td>\n",
       "      <td>77</td>\n",
       "      <td>20</td>\n",
       "      <td>1.54</td>\n",
       "      <td>PT</td>\n",
       "      <td>2022-10-03 22:06:31</td>\n",
       "    </tr>\n",
       "    <tr>\n",
       "      <th>6</th>\n",
       "      <td>Butaritari</td>\n",
       "      <td>3.0707</td>\n",
       "      <td>172.7902</td>\n",
       "      <td>27.54</td>\n",
       "      <td>73</td>\n",
       "      <td>28</td>\n",
       "      <td>4.79</td>\n",
       "      <td>KI</td>\n",
       "      <td>2022-10-03 22:10:10</td>\n",
       "    </tr>\n",
       "    <tr>\n",
       "      <th>7</th>\n",
       "      <td>Hilo</td>\n",
       "      <td>19.7297</td>\n",
       "      <td>-155.0900</td>\n",
       "      <td>29.58</td>\n",
       "      <td>79</td>\n",
       "      <td>20</td>\n",
       "      <td>4.63</td>\n",
       "      <td>US</td>\n",
       "      <td>2022-10-03 22:09:54</td>\n",
       "    </tr>\n",
       "    <tr>\n",
       "      <th>8</th>\n",
       "      <td>Ahipara</td>\n",
       "      <td>-35.1667</td>\n",
       "      <td>173.1667</td>\n",
       "      <td>14.45</td>\n",
       "      <td>71</td>\n",
       "      <td>74</td>\n",
       "      <td>4.16</td>\n",
       "      <td>NZ</td>\n",
       "      <td>2022-10-03 22:10:11</td>\n",
       "    </tr>\n",
       "    <tr>\n",
       "      <th>9</th>\n",
       "      <td>Evans</td>\n",
       "      <td>33.5337</td>\n",
       "      <td>-82.1307</td>\n",
       "      <td>22.21</td>\n",
       "      <td>59</td>\n",
       "      <td>40</td>\n",
       "      <td>2.57</td>\n",
       "      <td>US</td>\n",
       "      <td>2022-10-03 22:10:12</td>\n",
       "    </tr>\n",
       "  </tbody>\n",
       "</table>\n",
       "</div>"
      ],
      "text/plain": [
       "         City      Lat       Lng  Max Temp  Humidity  Cloudiness  Wind Speed  \\\n",
       "0    Mingaora  34.7758   72.3625     16.95        67          79        3.50   \n",
       "1     Rikitea -23.1203 -134.9692     21.65        71          90        7.86   \n",
       "2      Yulara -25.2406  130.9889     16.15        71          59        4.21   \n",
       "3  Nouadhibou  20.9310  -17.0347     25.01        70          67        6.54   \n",
       "4   Cape Town -33.9258   18.4232     14.49        73           0        0.45   \n",
       "5     Camacha  33.0833  -16.3333     18.68        77          20        1.54   \n",
       "6  Butaritari   3.0707  172.7902     27.54        73          28        4.79   \n",
       "7        Hilo  19.7297 -155.0900     29.58        79          20        4.63   \n",
       "8     Ahipara -35.1667  173.1667     14.45        71          74        4.16   \n",
       "9       Evans  33.5337  -82.1307     22.21        59          40        2.57   \n",
       "\n",
       "  Country                 Date  \n",
       "0      PK  2022-10-03 22:10:10  \n",
       "1      PF  2022-10-03 22:09:46  \n",
       "2      AU  2022-10-03 22:10:10  \n",
       "3      MR  2022-10-03 22:06:31  \n",
       "4      ZA  2022-10-03 22:06:25  \n",
       "5      PT  2022-10-03 22:06:31  \n",
       "6      KI  2022-10-03 22:10:10  \n",
       "7      US  2022-10-03 22:09:54  \n",
       "8      NZ  2022-10-03 22:10:11  \n",
       "9      US  2022-10-03 22:10:12  "
      ]
     },
     "execution_count": 8,
     "metadata": {},
     "output_type": "execute_result"
    }
   ],
   "source": [
    "#convert array of dictionaries to Pandas DF\n",
    "city_data_df = pd.DataFrame(city_data)\n",
    "city_data_df.head(10)"
   ]
  },
  {
   "cell_type": "code",
   "execution_count": 9,
   "id": "8c8af67f",
   "metadata": {},
   "outputs": [
    {
     "data": {
      "text/html": [
       "<div>\n",
       "<style scoped>\n",
       "    .dataframe tbody tr th:only-of-type {\n",
       "        vertical-align: middle;\n",
       "    }\n",
       "\n",
       "    .dataframe tbody tr th {\n",
       "        vertical-align: top;\n",
       "    }\n",
       "\n",
       "    .dataframe thead th {\n",
       "        text-align: right;\n",
       "    }\n",
       "</style>\n",
       "<table border=\"1\" class=\"dataframe\">\n",
       "  <thead>\n",
       "    <tr style=\"text-align: right;\">\n",
       "      <th></th>\n",
       "      <th>City</th>\n",
       "      <th>Country</th>\n",
       "      <th>Date</th>\n",
       "      <th>Lat</th>\n",
       "      <th>Lng</th>\n",
       "      <th>Max Temp</th>\n",
       "      <th>Humidity</th>\n",
       "      <th>Cloudiness</th>\n",
       "      <th>Wind Speed</th>\n",
       "    </tr>\n",
       "  </thead>\n",
       "  <tbody>\n",
       "    <tr>\n",
       "      <th>0</th>\n",
       "      <td>Mingaora</td>\n",
       "      <td>PK</td>\n",
       "      <td>2022-10-03 22:10:10</td>\n",
       "      <td>34.7758</td>\n",
       "      <td>72.3625</td>\n",
       "      <td>16.95</td>\n",
       "      <td>67</td>\n",
       "      <td>79</td>\n",
       "      <td>3.50</td>\n",
       "    </tr>\n",
       "    <tr>\n",
       "      <th>1</th>\n",
       "      <td>Rikitea</td>\n",
       "      <td>PF</td>\n",
       "      <td>2022-10-03 22:09:46</td>\n",
       "      <td>-23.1203</td>\n",
       "      <td>-134.9692</td>\n",
       "      <td>21.65</td>\n",
       "      <td>71</td>\n",
       "      <td>90</td>\n",
       "      <td>7.86</td>\n",
       "    </tr>\n",
       "    <tr>\n",
       "      <th>2</th>\n",
       "      <td>Yulara</td>\n",
       "      <td>AU</td>\n",
       "      <td>2022-10-03 22:10:10</td>\n",
       "      <td>-25.2406</td>\n",
       "      <td>130.9889</td>\n",
       "      <td>16.15</td>\n",
       "      <td>71</td>\n",
       "      <td>59</td>\n",
       "      <td>4.21</td>\n",
       "    </tr>\n",
       "    <tr>\n",
       "      <th>3</th>\n",
       "      <td>Nouadhibou</td>\n",
       "      <td>MR</td>\n",
       "      <td>2022-10-03 22:06:31</td>\n",
       "      <td>20.9310</td>\n",
       "      <td>-17.0347</td>\n",
       "      <td>25.01</td>\n",
       "      <td>70</td>\n",
       "      <td>67</td>\n",
       "      <td>6.54</td>\n",
       "    </tr>\n",
       "    <tr>\n",
       "      <th>4</th>\n",
       "      <td>Cape Town</td>\n",
       "      <td>ZA</td>\n",
       "      <td>2022-10-03 22:06:25</td>\n",
       "      <td>-33.9258</td>\n",
       "      <td>18.4232</td>\n",
       "      <td>14.49</td>\n",
       "      <td>73</td>\n",
       "      <td>0</td>\n",
       "      <td>0.45</td>\n",
       "    </tr>\n",
       "    <tr>\n",
       "      <th>5</th>\n",
       "      <td>Camacha</td>\n",
       "      <td>PT</td>\n",
       "      <td>2022-10-03 22:06:31</td>\n",
       "      <td>33.0833</td>\n",
       "      <td>-16.3333</td>\n",
       "      <td>18.68</td>\n",
       "      <td>77</td>\n",
       "      <td>20</td>\n",
       "      <td>1.54</td>\n",
       "    </tr>\n",
       "    <tr>\n",
       "      <th>6</th>\n",
       "      <td>Butaritari</td>\n",
       "      <td>KI</td>\n",
       "      <td>2022-10-03 22:10:10</td>\n",
       "      <td>3.0707</td>\n",
       "      <td>172.7902</td>\n",
       "      <td>27.54</td>\n",
       "      <td>73</td>\n",
       "      <td>28</td>\n",
       "      <td>4.79</td>\n",
       "    </tr>\n",
       "    <tr>\n",
       "      <th>7</th>\n",
       "      <td>Hilo</td>\n",
       "      <td>US</td>\n",
       "      <td>2022-10-03 22:09:54</td>\n",
       "      <td>19.7297</td>\n",
       "      <td>-155.0900</td>\n",
       "      <td>29.58</td>\n",
       "      <td>79</td>\n",
       "      <td>20</td>\n",
       "      <td>4.63</td>\n",
       "    </tr>\n",
       "    <tr>\n",
       "      <th>8</th>\n",
       "      <td>Ahipara</td>\n",
       "      <td>NZ</td>\n",
       "      <td>2022-10-03 22:10:11</td>\n",
       "      <td>-35.1667</td>\n",
       "      <td>173.1667</td>\n",
       "      <td>14.45</td>\n",
       "      <td>71</td>\n",
       "      <td>74</td>\n",
       "      <td>4.16</td>\n",
       "    </tr>\n",
       "    <tr>\n",
       "      <th>9</th>\n",
       "      <td>Evans</td>\n",
       "      <td>US</td>\n",
       "      <td>2022-10-03 22:10:12</td>\n",
       "      <td>33.5337</td>\n",
       "      <td>-82.1307</td>\n",
       "      <td>22.21</td>\n",
       "      <td>59</td>\n",
       "      <td>40</td>\n",
       "      <td>2.57</td>\n",
       "    </tr>\n",
       "  </tbody>\n",
       "</table>\n",
       "</div>"
      ],
      "text/plain": [
       "         City Country                 Date      Lat       Lng  Max Temp  \\\n",
       "0    Mingaora      PK  2022-10-03 22:10:10  34.7758   72.3625     16.95   \n",
       "1     Rikitea      PF  2022-10-03 22:09:46 -23.1203 -134.9692     21.65   \n",
       "2      Yulara      AU  2022-10-03 22:10:10 -25.2406  130.9889     16.15   \n",
       "3  Nouadhibou      MR  2022-10-03 22:06:31  20.9310  -17.0347     25.01   \n",
       "4   Cape Town      ZA  2022-10-03 22:06:25 -33.9258   18.4232     14.49   \n",
       "5     Camacha      PT  2022-10-03 22:06:31  33.0833  -16.3333     18.68   \n",
       "6  Butaritari      KI  2022-10-03 22:10:10   3.0707  172.7902     27.54   \n",
       "7        Hilo      US  2022-10-03 22:09:54  19.7297 -155.0900     29.58   \n",
       "8     Ahipara      NZ  2022-10-03 22:10:11 -35.1667  173.1667     14.45   \n",
       "9       Evans      US  2022-10-03 22:10:12  33.5337  -82.1307     22.21   \n",
       "\n",
       "   Humidity  Cloudiness  Wind Speed  \n",
       "0        67          79        3.50  \n",
       "1        71          90        7.86  \n",
       "2        71          59        4.21  \n",
       "3        70          67        6.54  \n",
       "4        73           0        0.45  \n",
       "5        77          20        1.54  \n",
       "6        73          28        4.79  \n",
       "7        79          20        4.63  \n",
       "8        71          74        4.16  \n",
       "9        59          40        2.57  "
      ]
     },
     "execution_count": 9,
     "metadata": {},
     "output_type": "execute_result"
    }
   ],
   "source": [
    "#re-arrange the column headers\n",
    "new_col_order = [\"City\", \"Country\", \"Date\", \"Lat\", \"Lng\", \"Max Temp\", \"Humidity\", \"Cloudiness\", \"Wind Speed\"]\n",
    "city_data_df = city_data_df[new_col_order]\n",
    "city_data_df.head(10)"
   ]
  },
  {
   "cell_type": "code",
   "execution_count": 10,
   "id": "c0bf5c9a",
   "metadata": {},
   "outputs": [],
   "source": [
    "#create the output csv file\n",
    "output_data_file = \"weather_data\\cities.csv\"\n",
    "\n",
    "#export the city_data into the csv\n",
    "city_data_df.to_csv(output_data_file, index_label = \"City_ID\")"
   ]
  },
  {
   "cell_type": "code",
   "execution_count": 11,
   "id": "a4cd0869",
   "metadata": {},
   "outputs": [],
   "source": [
    "#extract relevant fields from the Dframe for plotting\n",
    "lats = city_data_df[\"Lat\"]\n",
    "max_temps = city_data_df[\"Max Temp\"]\n",
    "humidity = city_data_df[\"Humidity\"]\n",
    "cloudiness = city_data_df[\"Cloudiness\"]\n",
    "wind_speed = city_data_df[\"Wind Speed\"]"
   ]
  },
  {
   "cell_type": "code",
   "execution_count": 12,
   "id": "0f5b1bec",
   "metadata": {},
   "outputs": [
    {
     "data": {
      "image/png": "[encoded data removed]",
      "text/plain": [
       "<Figure size 432x288 with 1 Axes>"
      ]
     },
     "metadata": {
      "needs_background": "light"
     },
     "output_type": "display_data"
    }
   ],
   "source": [
    "#import time module\n",
    "import time\n",
    "\n",
    "#build scatter plot for lat vs max temp\n",
    "plt.scatter(lats,\n",
    "           max_temps,\n",
    "           edgecolor = \"black\", linewidths = 1, marker = \"o\",\n",
    "           alpha = 0.8, label = \"Cities\")\n",
    "\n",
    "#incorporate the other graph properties\n",
    "plt.title(f\"City Latitude vs Max Temperature \" + time.strftime(\"%x\"))\n",
    "plt.ylabel(\"Max Temperature (F)\")\n",
    "plt.xlabel(\"Latitude\")\n",
    "plt.grid(True)\n",
    "\n",
    "#save the image\n",
    "plt.savefig(\"weather_data\\Fig1.png\")\n",
    "\n",
    "#display the chart\n",
    "plt.show()"
   ]
  },
  {
   "cell_type": "code",
   "execution_count": 13,
   "id": "6df32293",
   "metadata": {},
   "outputs": [
    {
     "data": {
      "image/png": "[encoded data removed]",
      "text/plain": [
       "<Figure size 432x288 with 1 Axes>"
      ]
     },
     "metadata": {
      "needs_background": "light"
     },
     "output_type": "display_data"
    }
   ],
   "source": [
    "#import time module\n",
    "import time\n",
    "\n",
    "#build scatter plot for lat vs humidity\n",
    "plt.scatter(lats,\n",
    "           humidity,\n",
    "           edgecolor = \"black\", linewidths = 1, marker = \"o\",\n",
    "           alpha = 0.8, label = \"Cities\")\n",
    "\n",
    "#incorporate the other graph properties\n",
    "plt.title(f\"City Latitude vs Humidity \" + time.strftime(\"%x\"))\n",
    "plt.ylabel(\"Humidity(%)\")\n",
    "plt.xlabel(\"Latitude\")\n",
    "plt.grid(True)\n",
    "\n",
    "#save the image\n",
    "plt.savefig(\"weather_data\\Fig2.png\")\n",
    "\n",
    "#display the chart\n",
    "plt.show()"
   ]
  },
  {
   "cell_type": "code",
   "execution_count": 14,
   "id": "1ce2986f",
   "metadata": {},
   "outputs": [
    {
     "data": {
      "image/png": "[encoded data removed]",
      "text/plain": [
       "<Figure size 432x288 with 1 Axes>"
      ]
     },
     "metadata": {
      "needs_background": "light"
     },
     "output_type": "display_data"
    }
   ],
   "source": [
    "#build scatter plot for lat vs cloudiness\n",
    "plt.scatter(lats,\n",
    "           cloudiness,\n",
    "           edgecolor = \"black\", linewidths = 1, marker = \"o\",\n",
    "           alpha = 0.8, label = \"Cities\")\n",
    "\n",
    "#incorporate the other graph properties\n",
    "plt.title(f\"City Latitude vs Cloudiness (%) \" + time.strftime(\"%x\"))\n",
    "plt.ylabel(\"Cloudiness (%)\")\n",
    "plt.xlabel(\"Latitude\")\n",
    "plt.grid(True)\n",
    "\n",
    "#save the image\n",
    "plt.savefig(\"weather_data\\Fig3.png\")\n",
    "\n",
    "#display the chart\n",
    "plt.show()"
   ]
  },
  {
   "cell_type": "code",
   "execution_count": 15,
   "id": "8cb04ddc",
   "metadata": {},
   "outputs": [
    {
     "data": {
      "image/png": "[encoded data removed]",
      "text/plain": [
       "<Figure size 432x288 with 1 Axes>"
      ]
     },
     "metadata": {
      "needs_background": "light"
     },
     "output_type": "display_data"
    }
   ],
   "source": [
    "#build scatter plot for lat vs wind speed\n",
    "plt.scatter(lats,\n",
    "           wind_speed,\n",
    "           edgecolor = \"black\", linewidths = 1, marker = \"o\",\n",
    "           alpha = 0.8, label = \"Cities\")\n",
    "\n",
    "#incorporate the other graph properties\n",
    "plt.title(f\"City Latitude vs Wind Speed \" + time.strftime(\"%x\"))\n",
    "plt.ylabel(\"Wind Speed (mph)\")\n",
    "plt.xlabel(\"Latitude\")\n",
    "plt.grid(True)\n",
    "\n",
    "#save the image\n",
    "plt.savefig(\"weather_data\\Fig4.png\")\n",
    "\n",
    "#display the chart\n",
    "plt.show()"
   ]
  },
  {
   "cell_type": "code",
   "execution_count": 16,
   "id": "a55377a0",
   "metadata": {},
   "outputs": [],
   "source": [
    "#import linear regression from scipy stats module\n",
    "from scipy.stats import linregress"
   ]
  },
  {
   "cell_type": "code",
   "execution_count": 17,
   "id": "f7ad7519",
   "metadata": {},
   "outputs": [],
   "source": [
    "#create function to create perform linear regression on weather data\n",
    "#and plot regression line and eq with the data\n",
    "def plot_linear_regression(x_values, y_values, title, y_label, text_coordinates):\n",
    "    \n",
    "    #run linear regression on hemisphere weather data\n",
    "    (slope, intercept, r_value, p_value, std_err) = linregress(x_values, y_values)\n",
    "    \n",
    "    #calculate the regression line \"y values\" from the slope and intercept\n",
    "    regress_values = x_values * slope + intercept\n",
    "    \n",
    "    #get the eq of the line\n",
    "    line_eq = \"y = \" + str(round(slope,2)) + \"x + \" + str(round(intercept,2))\n",
    "    \n",
    "    #create scatter plot and plot regression line\n",
    "    plt.scatter(x_values,y_values)\n",
    "    plt.plot(x_values,regress_values,\"r\")\n",
    "    \n",
    "    #annotate the text for the line eq\n",
    "    plt.annotate(line_eq, text_coordinates, fontsize=15, color=\"red\")\n",
    "    plt.title(title)\n",
    "    plt.xlabel('Latitude')\n",
    "    plt.ylabel(y_label)\n",
    "    plt.show()"
   ]
  },
  {
   "cell_type": "code",
   "execution_count": 18,
   "id": "f1873aa6",
   "metadata": {},
   "outputs": [
    {
     "data": {
      "text/plain": [
       "City                     Sri Aman\n",
       "Country                        MY\n",
       "Date          2022-10-03 22:10:13\n",
       "Lat                        1.2376\n",
       "Lng                      111.4621\n",
       "Max Temp                    22.92\n",
       "Humidity                       98\n",
       "Cloudiness                    100\n",
       "Wind Speed                   0.88\n",
       "Name: 13, dtype: object"
      ]
     },
     "execution_count": 18,
     "metadata": {},
     "output_type": "execute_result"
    }
   ],
   "source": [
    "#show info at index 13 in the city_data df\n",
    "index13 = city_data_df.loc[13]\n",
    "index13"
   ]
  },
  {
   "cell_type": "code",
   "execution_count": 19,
   "id": "539945fc",
   "metadata": {},
   "outputs": [],
   "source": [
    "#creating a df for northern hemisphere (lat >=0) and southern hemisphere (lat <0)\n",
    "northern_hemi_df = city_data_df.loc[(city_data_df[\"Lat\"] >= 0)]\n",
    "southern_hemi_df = city_data_df.loc[(city_data_df[\"Lat\"] < 0)]"
   ]
  },
  {
   "cell_type": "code",
   "execution_count": 20,
   "id": "ebf8688a",
   "metadata": {},
   "outputs": [
    {
     "data": {
      "image/png": "[encoded data removed]",
      "text/plain": [
       "<Figure size 432x288 with 1 Axes>"
      ]
     },
     "metadata": {
      "needs_background": "light"
     },
     "output_type": "display_data"
    }
   ],
   "source": [
    "#perform linear regression on northern hemi on max temp\n",
    "#set the values/params before calling the method defined above\n",
    "\n",
    "x_values = northern_hemi_df[\"Lat\"]\n",
    "y_values = northern_hemi_df[\"Max Temp\"]\n",
    "\n",
    "#call the function\n",
    "plot_linear_regression(x_values, y_values,\n",
    "                       'Linear Regression on the Northern Hemisphere for \\n Maximum Temperature', 'Max Temp',(5,0))"
   ]
  },
  {
   "cell_type": "code",
   "execution_count": 21,
   "id": "6e780feb",
   "metadata": {},
   "outputs": [
    {
     "data": {
      "image/png": "[encoded data removed]",
      "text/plain": [
       "<Figure size 432x288 with 1 Axes>"
      ]
     },
     "metadata": {
      "needs_background": "light"
     },
     "output_type": "display_data"
    }
   ],
   "source": [
    "#perform linear regression on southern hemi on max temp\n",
    "#set the values/params before calling the method defined above\n",
    "\n",
    "x_values = southern_hemi_df[\"Lat\"]\n",
    "y_values = southern_hemi_df[\"Max Temp\"]\n",
    "\n",
    "#call the function\n",
    "plot_linear_regression(x_values, y_values,\n",
    "                       'Linear Regression on the Southern Hemisphere for \\n Maximum Temperature', 'Max Temp',(-30,10))"
   ]
  },
  {
   "cell_type": "markdown",
   "id": "de765ff9",
   "metadata": {},
   "source": [
    "# FINDINGS:\n",
    "The correlation between the latitude and the maximum temperature is strong to very strong because the r-value is less than –0.7 for the Northern Hemisphere and greater than 0.7 for the Southern Hemisphere, as shown by the plots here. This means that as we approach the equator, 0° latitude, the temperatures become warmer. And when we are further from the equator the temperatures become cooler. Check the r-values for your plots. "
   ]
  },
  {
   "cell_type": "code",
   "execution_count": 29,
   "id": "52164667",
   "metadata": {},
   "outputs": [
    {
     "data": {
      "image/png": "[encoded data removed]",
      "text/plain": [
       "<Figure size 432x288 with 1 Axes>"
      ]
     },
     "metadata": {
      "needs_background": "light"
     },
     "output_type": "display_data"
    }
   ],
   "source": [
    "#perform linear regression on northern hemi on humidity\n",
    "#set the values/params before calling the method defined above\n",
    "\n",
    "x_values = northern_hemi_df[\"Lat\"]\n",
    "y_values = northern_hemi_df[\"Humidity\"]\n",
    "\n",
    "#call the function\n",
    "plot_linear_regression(x_values, y_values,\n",
    "                       'Linear Regression on the Northern Hemisphere for \\n Humidity %', 'Humidity %',(40,20))"
   ]
  },
  {
   "cell_type": "code",
   "execution_count": 23,
   "id": "6a2f00eb",
   "metadata": {},
   "outputs": [
    {
     "data": {
      "image/png": "[encoded data removed]",
      "text/plain": [
       "<Figure size 432x288 with 1 Axes>"
      ]
     },
     "metadata": {
      "needs_background": "light"
     },
     "output_type": "display_data"
    }
   ],
   "source": [
    "#perform linear regression on southern hemi on humidity\n",
    "#set the values/params before calling the method defined above\n",
    "\n",
    "x_values = southern_hemi_df[\"Lat\"]\n",
    "y_values = southern_hemi_df[\"Humidity\"]\n",
    "\n",
    "#call the function\n",
    "plot_linear_regression(x_values, y_values,\n",
    "                       'Linear Regression on the Southern Hemisphere for \\n Humidity %', 'Humidity %',(-55,20))"
   ]
  },
  {
   "cell_type": "markdown",
   "id": "e37e1bb2",
   "metadata": {},
   "source": [
    "# FINDINGS:\n",
    "The correlation between the latitude and percent humidity is very low because the r-value is less than 0.04 for the Northern and Southern Hemispheres for the plots shown here. This means that percent humidity is unpredictable due to changing weather patterns that can increase or decrease percent humidity. Check the r-values for your plots. "
   ]
  },
  {
   "cell_type": "code",
   "execution_count": 24,
   "id": "88b95c66",
   "metadata": {},
   "outputs": [
    {
     "data": {
      "image/png": "[encoded data removed]",
      "text/plain": [
       "<Figure size 432x288 with 1 Axes>"
      ]
     },
     "metadata": {
      "needs_background": "light"
     },
     "output_type": "display_data"
    }
   ],
   "source": [
    "#perform linear regression on northern hemi on cloudiness\n",
    "#set the values/params before calling the method defined above\n",
    "\n",
    "x_values = northern_hemi_df[\"Lat\"]\n",
    "y_values = northern_hemi_df[\"Cloudiness\"]\n",
    "\n",
    "#call the function\n",
    "plot_linear_regression(x_values, y_values,\n",
    "                       'Linear Regression on the Northern Hemisphere for \\n % Cloudiness', '% Cloudiness',(40,60))"
   ]
  },
  {
   "cell_type": "code",
   "execution_count": 25,
   "id": "832e5479",
   "metadata": {},
   "outputs": [
    {
     "data": {
      "image/png": "[encoded data removed]",
      "text/plain": [
       "<Figure size 432x288 with 1 Axes>"
      ]
     },
     "metadata": {
      "needs_background": "light"
     },
     "output_type": "display_data"
    }
   ],
   "source": [
    "#perform linear regression on southern hemi on cloudiness\n",
    "#set the values/params before calling the method defined above\n",
    "\n",
    "x_values = southern_hemi_df[\"Lat\"]\n",
    "y_values = southern_hemi_df[\"Cloudiness\"]\n",
    "\n",
    "#call the function\n",
    "plot_linear_regression(x_values, y_values,\n",
    "                       'Linear Regression on the Southern Hemisphere for \\n % Cloudiness', '% Cloudiness',(-55,60))"
   ]
  },
  {
   "cell_type": "markdown",
   "id": "76ffe253",
   "metadata": {},
   "source": [
    "# Findings:\n",
    "The correlation between the latitude and percent cloudiness is very low because the r-value is less than –0.09 for the Northern Hemisphere and less than –0.02 for the Southern Hemisphere for the plots shown here. This means that cloudiness is unpredictable due to changing weather patterns that can increase or decrease percent cloudiness. Check the r-values for your plots. "
   ]
  },
  {
   "cell_type": "code",
   "execution_count": 30,
   "id": "4c144d7c",
   "metadata": {},
   "outputs": [
    {
     "data": {
      "image/png": "[encoded data removed]",
      "text/plain": [
       "<Figure size 432x288 with 1 Axes>"
      ]
     },
     "metadata": {
      "needs_background": "light"
     },
     "output_type": "display_data"
    }
   ],
   "source": [
    "#perform linear regression on northern hemi on wind speed\n",
    "#set the values/params before calling the method defined above\n",
    "\n",
    "x_values = northern_hemi_df[\"Lat\"]\n",
    "y_values = northern_hemi_df[\"Wind Speed\"]\n",
    "\n",
    "#call the function\n",
    "plot_linear_regression(x_values, y_values,\n",
    "                       'Linear Regression on the Northern Hemisphere for \\n Wind Speed', 'Wind Speed (mph)',(10,5))"
   ]
  },
  {
   "cell_type": "code",
   "execution_count": 27,
   "id": "ff1f77c7",
   "metadata": {},
   "outputs": [
    {
     "data": {
      "image/png": "[encoded data removed]",
      "text/plain": [
       "<Figure size 432x288 with 1 Axes>"
      ]
     },
     "metadata": {
      "needs_background": "light"
     },
     "output_type": "display_data"
    }
   ],
   "source": [
    "#perform linear regression on southern hemi on wind speed\n",
    "#set the values/params before calling the method defined above\n",
    "\n",
    "x_values = southern_hemi_df[\"Lat\"]\n",
    "y_values = southern_hemi_df[\"Wind Speed\"]\n",
    "\n",
    "#call the function\n",
    "plot_linear_regression(x_values, y_values,\n",
    "                       'Linear Regression on the Southern Hemisphere for \\n Wind Speed', 'Wind Speed (mph)',(-30,10))"
   ]
  },
  {
   "cell_type": "markdown",
   "id": "5766850c",
   "metadata": {},
   "source": [
    "# FINDINGS:\n",
    "The correlation between the latitude and wind speed is very low because the r-value is less  than –0.07 for the Northern Hemisphere and less than –0.3 for the Southern Hemisphere for the plots shown here. This means that wind speed is unpredictable due to changing weather patterns that can increase or decrease wind speed. Check the r-values for your plots. "
   ]
  }
 ],
 "metadata": {
  "kernelspec": {
   "display_name": "PythonData",
   "language": "python",
   "name": "pythondata"
  },
  "language_info": {
   "codemirror_mode": {
    "name": "ipython",
    "version": 3
   },
   "file_extension": ".py",
   "mimetype": "text/x-python",
   "name": "python",
   "nbconvert_exporter": "python",
   "pygments_lexer": "ipython3",
   "version": "3.7.13"
  }
 },
 "nbformat": 4,
 "nbformat_minor": 5
}
